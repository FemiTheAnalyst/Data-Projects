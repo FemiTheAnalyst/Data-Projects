{
 "cells": [
  {
   "cell_type": "code",
   "execution_count": 1,
   "id": "b89fc243",
   "metadata": {},
   "outputs": [],
   "source": [
    "import os\n",
    "import pyodbc\n",
    "from sqlalchemy import create_engine\n",
    "import pandas as pd\n"
   ]
  },
  {
   "cell_type": "code",
   "execution_count": 2,
   "id": "92dc6558",
   "metadata": {},
   "outputs": [],
   "source": [
    "#pip install ipython-sql(this enables the use of SQL magic functions that contain % and %% , allowing you to write SQL style code right)\n",
    "#pip install sqlalchemy(it will mainly be used to store SQL queries into a pandas dataframe.)\n",
    "#pip install pyodbc (SQL server, you would use  pyodbc:)\n",
    "\n",
    "# Load the IPython SQL extension.\n",
    "%load_ext sql"
   ]
  },
  {
   "cell_type": "code",
   "execution_count": 3,
   "id": "4ef12912",
   "metadata": {},
   "outputs": [
    {
     "name": "stdout",
     "output_type": "stream",
     "text": [
      "Database 'OnlineRetailDb' already exists.\n"
     ]
    }
   ],
   "source": [
    "server =os.environ.get('SERVER')\n",
    "database ='master'\n",
    "\n",
    "# Connection string\n",
    "connection_string = f'DRIVER={{ODBC Driver 17 for SQL Server}};SERVER={server};DATABASE={database};Trusted_Connection=yes;'\n",
    "\n",
    "# Connect to the database server\n",
    "connection = pyodbc.connect(connection_string)\n",
    "connection.autocommit = True  # Set autocommit mode to True\n",
    "cursor = connection.cursor()\n",
    "\n",
    "# Create the database\n",
    "database_name = 'OnlineRetailDb'\n",
    "check_database = f\"SELECT COUNT(*) FROM sys.databases WHERE name = '{database_name}'\"\n",
    "cursor.execute(check_database)\n",
    "if cursor.fetchone()[0] == 0:\n",
    " # Create the database if it doesn't exist\n",
    "    create_database = f'CREATE DATABASE {database_name}'\n",
    "    cursor.execute(create_database)\n",
    "    print(f\"Database '{database_name}' created.\")\n",
    "else:\n",
    "     print(f\"Database '{database_name}' already exists.\")\n",
    "    \n",
    "create_table_query = '''\n",
    "    BEGIN TRY\n",
    "        CREATE TABLE OnlineRetail(\n",
    "            InvoiceNo INT PRIMARY KEY,\n",
    "            StockCode VARCHAR(50),\n",
    "            Description VARCHAR(255),\n",
    "            Quantity NUMERIC,\n",
    "            InvoiceDate DATE,\n",
    "            UnitPrice DECIMAL(18, 2),\n",
    "            CustomerID INT ,\n",
    "            Country VARCHAR(255)\n",
    "      )\n",
    "    END TRY\n",
    "    BEGIN CATCH\n",
    "        IF ERROR_NUMBER() <> 2714\n",
    "            THROW;\n",
    "    END CATCH\n",
    "'''\n",
    "# Execute the CREATE TABLE statement\n",
    "cursor.execute(create_table_query)\n",
    "\n",
    "\n",
    "# Close the cursor and connection\n",
    "cursor.close()\n",
    "connection.close()"
   ]
  },
  {
   "cell_type": "code",
   "execution_count": 4,
   "id": "64123702",
   "metadata": {},
   "outputs": [
    {
     "data": {
      "text/plain": [
       "93"
      ]
     },
     "execution_count": 4,
     "metadata": {},
     "output_type": "execute_result"
    }
   ],
   "source": [
    "\n",
    "# Create the SQLAlchemy engine\n",
    "engine = create_engine(f'mssql+pyodbc://{server}/{database_name}?trusted_connection=yes&driver=ODBC+Driver+17+for+SQL+Server')\n",
    "\n",
    "\n",
    "# Specify the path to the CSV file to be inserted into the database.\n",
    "csv_file_path = 'G:/My Drive/Analytics/Online Retail.xlsx'\n",
    "\n",
    "# Read the CSV file into a pandas DataFrame.\n",
    "df = pd.read_excel(csv_file_path)\n",
    "\n",
    "# Use the `to_sql()` method of the DataFrame object to insert the data into the database table.\n",
    "df.to_sql('OnlineRetail', engine, if_exists='append', index=False)"
   ]
  },
  {
   "cell_type": "code",
   "execution_count": 5,
   "id": "a1733fa5",
   "metadata": {
    "scrolled": true
   },
   "outputs": [],
   "source": [
    "%sql mssql+pyodbc://{server}/{database_name}?trusted_connection=yes&driver=ODBC+Driver+17+for+SQL+Server\n",
    "\n"
   ]
  },
  {
   "cell_type": "code",
   "execution_count": 6,
   "id": "0902fe60",
   "metadata": {},
   "outputs": [
    {
     "name": "stdout",
     "output_type": "stream",
     "text": [
      " * mssql+pyodbc://FEMUNDO\\SQLEXPRESS/OnlineRetailDb?driver=ODBC+Driver+17+for+SQL+Server&trusted_connection=yes\n",
      "Done.\n"
     ]
    }
   ],
   "source": [
    "%%sql \n",
    "select * from OnlineRetail"
   ]
  },
  {
   "cell_type": "code",
   "execution_count": null,
   "id": "4c8c0190",
   "metadata": {},
   "outputs": [],
   "source": []
  }
 ],
 "metadata": {
  "kernelspec": {
   "display_name": "Python 3 (ipykernel)",
   "language": "python",
   "name": "python3"
  },
  "language_info": {
   "codemirror_mode": {
    "name": "ipython",
    "version": 3
   },
   "file_extension": ".py",
   "mimetype": "text/x-python",
   "name": "python",
   "nbconvert_exporter": "python",
   "pygments_lexer": "ipython3",
   "version": "3.9.1"
  }
 },
 "nbformat": 4,
 "nbformat_minor": 5
}
