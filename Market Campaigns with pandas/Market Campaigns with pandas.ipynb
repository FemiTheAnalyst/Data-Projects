{
 "cells": [
  {
   "cell_type": "markdown",
   "id": "45cb6611",
   "metadata": {},
   "source": [
    "**Import data using pandas**"
   ]
  },
  {
   "cell_type": "code",
   "execution_count": 1,
   "id": "18379cdc",
   "metadata": {},
   "outputs": [],
   "source": [
    "import pandas as pd\n",
    "import numpy as np\n",
    "import matplotlib.pyplot as plt\n",
    "import seaborn as sns"
   ]
  },
  {
   "cell_type": "code",
   "execution_count": 2,
   "id": "9e7d1f17",
   "metadata": {},
   "outputs": [],
   "source": [
    "df = pd.read_csv(r'G:\\My Drive\\Analytics\\marketing.csv')\n"
   ]
  },
  {
   "cell_type": "markdown",
   "id": "3449e897",
   "metadata": {},
   "source": [
    "## Inspecting data"
   ]
  },
  {
   "cell_type": "code",
   "execution_count": 3,
   "id": "ddb32897",
   "metadata": {},
   "outputs": [
    {
     "name": "stdout",
     "output_type": "stream",
     "text": [
      "      user_id date_served marketing_channel          variant converted  \\\n",
      "0  a100000029      1/1/18         House Ads  personalization      True   \n",
      "1  a100000030      1/1/18         House Ads  personalization      True   \n",
      "2  a100000031      1/1/18         House Ads  personalization      True   \n",
      "3  a100000032      1/1/18         House Ads  personalization      True   \n",
      "4  a100000033      1/1/18         House Ads  personalization      True   \n",
      "\n",
      "  language_displayed language_preferred    age_group date_subscribed  \\\n",
      "0            English            English   0-18 years          1/1/18   \n",
      "1            English            English  19-24 years          1/1/18   \n",
      "2            English            English  24-30 years          1/1/18   \n",
      "3            English            English  30-36 years          1/1/18   \n",
      "4            English            English  36-45 years          1/1/18   \n",
      "\n",
      "  date_canceled subscribing_channel is_retained  \n",
      "0           NaN           House Ads        True  \n",
      "1           NaN           House Ads        True  \n",
      "2           NaN           House Ads        True  \n",
      "3           NaN           House Ads        True  \n",
      "4           NaN           House Ads        True  \n"
     ]
    }
   ],
   "source": [
    "print(df.head())"
   ]
  },
  {
   "cell_type": "markdown",
   "id": "a9d817e5",
   "metadata": {},
   "source": [
    "## Checking data types & missing values"
   ]
  },
  {
   "cell_type": "code",
   "execution_count": 4,
   "id": "a746f3f8",
   "metadata": {},
   "outputs": [
    {
     "name": "stdout",
     "output_type": "stream",
     "text": [
      "<class 'pandas.core.frame.DataFrame'>\n",
      "RangeIndex: 10037 entries, 0 to 10036\n",
      "Data columns (total 12 columns):\n",
      " #   Column               Non-Null Count  Dtype \n",
      "---  ------               --------------  ----- \n",
      " 0   user_id              10037 non-null  object\n",
      " 1   date_served          10021 non-null  object\n",
      " 2   marketing_channel    10022 non-null  object\n",
      " 3   variant              10037 non-null  object\n",
      " 4   converted            10022 non-null  object\n",
      " 5   language_displayed   10037 non-null  object\n",
      " 6   language_preferred   10037 non-null  object\n",
      " 7   age_group            10037 non-null  object\n",
      " 8   date_subscribed      1856 non-null   object\n",
      " 9   date_canceled        577 non-null    object\n",
      " 10  subscribing_channel  1856 non-null   object\n",
      " 11  is_retained          1856 non-null   object\n",
      "dtypes: object(12)\n",
      "memory usage: 941.1+ KB\n"
     ]
    }
   ],
   "source": [
    "df.info()\n"
   ]
  },
  {
   "cell_type": "markdown",
   "id": "07b8316c",
   "metadata": {},
   "source": [
    "## Summary Statistics"
   ]
  },
  {
   "cell_type": "code",
   "execution_count": 5,
   "id": "03ad4290",
   "metadata": {},
   "outputs": [
    {
     "name": "stdout",
     "output_type": "stream",
     "text": [
      "           user_id date_served marketing_channel  variant converted  \\\n",
      "count        10037       10021             10022    10037     10022   \n",
      "unique        7309          31                 5        2         2   \n",
      "top     a100000882     1/15/18         House Ads  control     False   \n",
      "freq            12         789              4733     5091      8946   \n",
      "\n",
      "       language_displayed language_preferred    age_group date_subscribed  \\\n",
      "count               10037              10037        10037            1856   \n",
      "unique                  4                  4            7              31   \n",
      "top               English            English  19-24 years         1/16/18   \n",
      "freq                 9793               9275         1682             163   \n",
      "\n",
      "       date_canceled subscribing_channel is_retained  \n",
      "count            577                1856        1856  \n",
      "unique           115                   5           2  \n",
      "top           4/2/18           Instagram        True  \n",
      "freq              15                 600        1279  \n"
     ]
    }
   ],
   "source": [
    "# To summarize the file \n",
    "print(df.describe())"
   ]
  },
  {
   "cell_type": "markdown",
   "id": "e30feb86",
   "metadata": {},
   "source": [
    "# Data Cleaning: Analyzing individual columns & fixing data types\n"
   ]
  },
  {
   "cell_type": "code",
   "execution_count": 6,
   "id": "98c1ddf7",
   "metadata": {},
   "outputs": [
    {
     "data": {
      "text/plain": [
       "dtype('O')"
      ]
     },
     "execution_count": 6,
     "metadata": {},
     "output_type": "execute_result"
    }
   ],
   "source": [
    "#The column [converted] data type should be boolean not object from the formular \".info\"\n",
    "df['converted'].dtype\n"
   ]
  },
  {
   "cell_type": "markdown",
   "id": "ba974d8d",
   "metadata": {},
   "source": [
    "### changing the data type of column [converted] to Boolean"
   ]
  },
  {
   "cell_type": "code",
   "execution_count": 7,
   "id": "bfc27fec",
   "metadata": {},
   "outputs": [
    {
     "data": {
      "text/plain": [
       "0         True\n",
       "1         True\n",
       "2         True\n",
       "3         True\n",
       "4         True\n",
       "         ...  \n",
       "10032     True\n",
       "10033     True\n",
       "10034    False\n",
       "10035     True\n",
       "10036    False\n",
       "Name: converted, Length: 10037, dtype: boolean"
      ]
     },
     "execution_count": 7,
     "metadata": {},
     "output_type": "execute_result"
    }
   ],
   "source": [
    "df['converted'].astype('boolean')"
   ]
  },
  {
   "cell_type": "code",
   "execution_count": 8,
   "id": "46b25c4a",
   "metadata": {},
   "outputs": [
    {
     "name": "stdout",
     "output_type": "stream",
     "text": [
      "The datatype is boolean\n"
     ]
    }
   ],
   "source": [
    "df['converted']= df['converted'].astype('boolean')\n",
    "df['converted'].dtype\n",
    "print('The datatype is {}'.format(df['converted'].dtype))"
   ]
  },
  {
   "cell_type": "markdown",
   "id": "2ac668aa",
   "metadata": {},
   "source": [
    "## checking the column [user_id]"
   ]
  },
  {
   "cell_type": "code",
   "execution_count": 9,
   "id": "26f95fe5",
   "metadata": {},
   "outputs": [
    {
     "data": {
      "text/plain": [
       "array([10,  9], dtype=int64)"
      ]
     },
     "execution_count": 9,
     "metadata": {},
     "output_type": "execute_result"
    }
   ],
   "source": [
    "#this checks the length of characters in each of the particular column\n",
    "\n",
    "id_len = df['user_id'].apply(lambda x:len(x))\n",
    "\n",
    "df['user_id'].astype(str).str[0].unique()\n",
    "id_len.unique()\n",
    "\n"
   ]
  },
  {
   "cell_type": "code",
   "execution_count": null,
   "id": "0fcecdb3",
   "metadata": {},
   "outputs": [],
   "source": [
    "# the above output gave unique numbers of  10 & 9,we need to confirm why this difference or whether it is an error\n",
    "#lets check the [user_id] that has 9 characters\n",
    "condition=df['user_id'].str.len()==9\n",
    "\n",
    "#lets add a dataframe to the variable: df[condition] and referenced to a variable\n",
    "df_filtered =df[condition]\n",
    "\n",
    "#lets check the result\n",
    "df_filtered\n"
   ]
  },
  {
   "cell_type": "code",
   "execution_count": null,
   "id": "ba9aef0a",
   "metadata": {},
   "outputs": [],
   "source": [
    "#after little research,the most significant is the first character of the first variable,so found that if all are the same\n",
    "\n",
    "df['user_id'].astype('str').str[0].unique()"
   ]
  },
  {
   "cell_type": "markdown",
   "id": "2b4c356a",
   "metadata": {},
   "source": [
    "**The above output signify that all the [user_id] has their first character to be 'a',this satisfactory for column[user_id]**"
   ]
  },
  {
   "cell_type": "markdown",
   "id": "7866a2d7",
   "metadata": {},
   "source": [
    "## changing the Date Format"
   ]
  },
  {
   "cell_type": "code",
   "execution_count": null,
   "id": "ffe00cb3",
   "metadata": {},
   "outputs": [],
   "source": [
    "#To change the format from from mm/dd/yyy to yyyy-mm-dd\n",
    "\n",
    "df['date_served'] = pd.to_datetime(\n",
    "df['date_served'])\n",
    "\n",
    "df['date_subscribed'] = pd.to_datetime(\n",
    "df['date_subscribed'])\n",
    "\n",
    "df['date_canceled'] = pd.to_datetime(\n",
    "df['date_canceled'])\n",
    "\n",
    "df['date_canceled']\n"
   ]
  },
  {
   "cell_type": "code",
   "execution_count": null,
   "id": "b90b0af2",
   "metadata": {},
   "outputs": [],
   "source": [
    "#creating a new column that signify the day of the week it was served\n",
    "#could not be converted to int due to null values\n",
    "\n",
    "df['day_served'] = df['date_served'].dt.dayofweek\n",
    "#df['date_served'].dt.dayofweek.sort_values(ascending=False)\n",
    "df['day_served']"
   ]
  },
  {
   "cell_type": "code",
   "execution_count": null,
   "id": "8f117f3f",
   "metadata": {},
   "outputs": [],
   "source": [
    " # Creating a  weekday  dictionary\n",
    "weekday_dict={0.0:'Mon', 1.0:'Tues', 2.0:'Wed', 3.0:'Thu', 4.0:'Fri', 5.0:'Sat', 6.0:'Sun'}\n",
    "    \n",
    "# Then map the weekday dict to the created day_sered\n",
    "df['day_served'] = df['day_served'].map(weekday_dict)\n",
    "df['day_served'].dropna()\n"
   ]
  },
  {
   "cell_type": "markdown",
   "id": "ea14a05c",
   "metadata": {},
   "source": [
    "## working with the age group column"
   ]
  },
  {
   "cell_type": "code",
   "execution_count": null,
   "id": "294ad34c",
   "metadata": {},
   "outputs": [],
   "source": [
    "#To remove  a particular string in a variable say like(50 years to 50)\n",
    "df['age_group'] = df['age_group'].str.replace(\" years\",\"\")\n",
    "df['age_group'].head(3)\n"
   ]
  },
  {
   "cell_type": "markdown",
   "id": "98a03edc",
   "metadata": {},
   "source": [
    "\n",
    "## Checking if language displayed is same as language preferred\n",
    "\n",
    "\n"
   ]
  },
  {
   "cell_type": "code",
   "execution_count": null,
   "id": "3cdad7ed",
   "metadata": {},
   "outputs": [],
   "source": [
    "df['is_language_correct']=(df['language_displayed']==df['language_preferred'])\n",
    "print(\"Language is not correct for {} observations\".format(df['is_language_correct'].count()-df['is_language_correct'].sum()))\n",
    " \n",
    "#* count()-counts the number of not empty values for each row, or column\n",
    "#*sum() - Getting the frequency of a specific value/true values\n",
    "\n"
   ]
  },
  {
   "cell_type": "markdown",
   "id": "cc78d599",
   "metadata": {},
   "source": [
    "**The data cleaning process has concluded, and it's now necessary to review the cleaned data to ensure that it meets the desired quality standards.**"
   ]
  },
  {
   "cell_type": "code",
   "execution_count": null,
   "id": "7c7a27f8",
   "metadata": {},
   "outputs": [],
   "source": [
    "df.head()"
   ]
  },
  {
   "cell_type": "code",
   "execution_count": null,
   "id": "971b3a24",
   "metadata": {},
   "outputs": [],
   "source": [
    "df.info()"
   ]
  },
  {
   "cell_type": "markdown",
   "id": "c35ddb3d",
   "metadata": {},
   "source": [
    "# Exploratory analysis"
   ]
  },
  {
   "cell_type": "markdown",
   "id": "0ed92437",
   "metadata": {},
   "source": [
    "## How many users see marketing assets?"
   ]
  },
  {
   "cell_type": "code",
   "execution_count": null,
   "id": "83c9ed34",
   "metadata": {},
   "outputs": [],
   "source": [
    "# Aggregate unique users that see ads by date,nunique() is used in order to avoid duplicates user_id which is unique\n",
    "daily_users = df.groupby(['date_served'])['user_id'].nunique()\n",
    "print(daily_users.head(5))"
   ]
  },
  {
   "cell_type": "code",
   "execution_count": null,
   "id": "d2659840",
   "metadata": {},
   "outputs": [],
   "source": [
    "#visualizing the result\n",
    "\n",
    "\n",
    "# Annotate\n",
    "\n",
    "plt.figure(figsize=(12,4))\n",
    "plt.title('Daily number of users who see ads')\n",
    "daily_users.plot()\n",
    "plt.xlabel('Date')\n",
    "plt.ylabel('Number of users')\n",
    "plt.xticks(rotation = 45)\n",
    "plt.show()\n"
   ]
  },
  {
   "cell_type": "markdown",
   "id": "2cbedded",
   "metadata": {},
   "source": [
    "## Total Number Of Marketing Channel used within the month"
   ]
  },
  {
   "cell_type": "code",
   "execution_count": null,
   "id": "e2ba9347",
   "metadata": {},
   "outputs": [],
   "source": [
    "channel_count=df['marketing_channel'].value_counts(sort=True,ascending=False)\n",
    "channel_count"
   ]
  },
  {
   "cell_type": "code",
   "execution_count": null,
   "id": "40bacaea",
   "metadata": {},
   "outputs": [],
   "source": [
    "# lets Visualize it using bar graph\n",
    "plt.figure(figsize=(12, 4))#The figsize attribute allows us to specify the width and height of a figure in-unit inches\n",
    "sns.barplot(x=channel_count.index, y=channel_count.values)\n",
    "plt.xlabel(\"Marketing Channel\")\n",
    "plt.ylabel(\"Count\")\n",
    "plt.title(\"Total Number Of Marketing Channel used within the month\", fontsize=12)\n",
    "plt.show()\n",
    "\n"
   ]
  },
  {
   "cell_type": "code",
   "execution_count": null,
   "id": "399eb7fb",
   "metadata": {},
   "outputs": [],
   "source": [
    "daily_ads_count=df.pivot_table(values=\"user_id\",index=\"date_served\", columns=\"marketing_channel\", aggfunc=len)\n",
    "daily_ads_count.head(10)\n",
    "#values - column to aggregate, optional\n",
    "#columns- column, Grouper, array, or list of the previous\n",
    "#aggfunc -function, list of functions, dict, default numpy.mean\n",
    "\n"
   ]
  },
  {
   "cell_type": "code",
   "execution_count": null,
   "id": "624c406b",
   "metadata": {},
   "outputs": [],
   "source": [
    "# lets vvisualize it using the line graph\n",
    "\n",
    "plt.style.use('fivethirtyeight')\n",
    "daily_ads_count.plot(kind='line',figsize=(18,6))\n",
    "plt.xlabel(\"Date Served\",size=15);\n",
    "plt.title(\"Ads Daily Trend\",size=20)\n",
    "#plt.legend(loc='upper right',fontsize=12);\n"
   ]
  },
  {
   "cell_type": "markdown",
   "id": "0543d2df",
   "metadata": {},
   "source": [
    "- Other than the email blast on the 15th of the month, there has been negligible activity\n",
    "- The bulk of the chunk consists of house ads, but their numbers have been fluctuating.\n",
    "- Throughout the month, there has been no significant change in the performance of Facebook, Instagram, and push ads."
   ]
  },
  {
   "cell_type": "markdown",
   "id": "f986e87a",
   "metadata": {},
   "source": [
    "**Solution to my Observation**\n",
    "\n",
    "1.**Increase activity:** Since there has been negligible activity other than the email blast, increasing the frequency of marketing activities could help. This could involve running more house ads or experimenting with different types of ads on different platforms.\n",
    "\n",
    "2.**Address fluctuation in house ads:** The fluctuation in house ads could be due to various factors such as changes in budget, targeting, or creative. It would be useful to analyze the data and identify the cause of these fluctuations. Once the root cause is determined, steps can be taken to address it.\n",
    "\n",
    "3.**Experiment with different channels:** While Facebook, Instagram, and push ads are currently not showing significant changes, it may be worthwhile to experiment with other channels to see if they perform better. This could include channels **such as Google Ads, LinkedIn, or TikTok depending on the target audience and the nature of the product or service being marketed.**\n",
    "\n",
    "4.**Refine targeting:** It may be helpful to revisit the target audience for the marketing efforts and refine the targeting to ensure that the ads are reaching the right people. This could involve analyzing data on customer demographics, interests, and behavior to create more targeted campaigns.\n",
    "\n",
    "5.**Improve creative:** The creative used in the marketing efforts could be a factor in the lack of significant performance. Experimenting with different messaging, visuals, and formats could help improve the performance of the ads. It may also be useful to conduct user testing to get feedback on the creative and make improvements based on the feedback."
   ]
  },
  {
   "cell_type": "code",
   "execution_count": null,
   "id": "fd42477b",
   "metadata": {},
   "outputs": [],
   "source": []
  }
 ],
 "metadata": {
  "kernelspec": {
   "display_name": "Python 3 (ipykernel)",
   "language": "python",
   "name": "python3"
  },
  "language_info": {
   "codemirror_mode": {
    "name": "ipython",
    "version": 3
   },
   "file_extension": ".py",
   "mimetype": "text/x-python",
   "name": "python",
   "nbconvert_exporter": "python",
   "pygments_lexer": "ipython3",
   "version": "3.9.1"
  }
 },
 "nbformat": 4,
 "nbformat_minor": 5
}
