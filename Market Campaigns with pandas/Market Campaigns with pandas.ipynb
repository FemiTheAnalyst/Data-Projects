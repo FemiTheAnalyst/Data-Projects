{
 "cells": [
  {
   "cell_type": "markdown",
   "id": "45cb6611",
   "metadata": {},
   "source": [
    "**Import data using pandas**"
   ]
  },
  {
   "cell_type": "code",
   "execution_count": 1,
   "id": "18379cdc",
   "metadata": {},
   "outputs": [],
   "source": [
    "import pandas as pd\n",
    "import numpy as np\n"
   ]
  },
  {
   "cell_type": "code",
   "execution_count": 2,
   "id": "9e7d1f17",
   "metadata": {},
   "outputs": [],
   "source": [
    "df = pd.read_csv(r'G:\\My Drive\\Analytics\\marketing.csv')\n"
   ]
  },
  {
   "cell_type": "markdown",
   "id": "3449e897",
   "metadata": {},
   "source": [
    "## Inspecting data"
   ]
  },
  {
   "cell_type": "code",
   "execution_count": 3,
   "id": "ddb32897",
   "metadata": {},
   "outputs": [
    {
     "name": "stdout",
     "output_type": "stream",
     "text": [
      "      user_id date_served marketing_channel          variant converted  \\\n",
      "0  a100000029      1/1/18         House Ads  personalization      True   \n",
      "1  a100000030      1/1/18         House Ads  personalization      True   \n",
      "2  a100000031      1/1/18         House Ads  personalization      True   \n",
      "3  a100000032      1/1/18         House Ads  personalization      True   \n",
      "4  a100000033      1/1/18         House Ads  personalization      True   \n",
      "\n",
      "  language_displayed language_preferred    age_group date_subscribed  \\\n",
      "0            English            English   0-18 years          1/1/18   \n",
      "1            English            English  19-24 years          1/1/18   \n",
      "2            English            English  24-30 years          1/1/18   \n",
      "3            English            English  30-36 years          1/1/18   \n",
      "4            English            English  36-45 years          1/1/18   \n",
      "\n",
      "  date_canceled subscribing_channel is_retained  \n",
      "0           NaN           House Ads        True  \n",
      "1           NaN           House Ads        True  \n",
      "2           NaN           House Ads        True  \n",
      "3           NaN           House Ads        True  \n",
      "4           NaN           House Ads        True  \n"
     ]
    }
   ],
   "source": [
    "print(df.head())"
   ]
  },
  {
   "cell_type": "markdown",
   "id": "a9d817e5",
   "metadata": {},
   "source": [
    "## Checking data types & missing values"
   ]
  },
  {
   "cell_type": "code",
   "execution_count": 4,
   "id": "a746f3f8",
   "metadata": {},
   "outputs": [
    {
     "name": "stdout",
     "output_type": "stream",
     "text": [
      "<class 'pandas.core.frame.DataFrame'>\n",
      "RangeIndex: 10037 entries, 0 to 10036\n",
      "Data columns (total 12 columns):\n",
      " #   Column               Non-Null Count  Dtype \n",
      "---  ------               --------------  ----- \n",
      " 0   user_id              10037 non-null  object\n",
      " 1   date_served          10021 non-null  object\n",
      " 2   marketing_channel    10022 non-null  object\n",
      " 3   variant              10037 non-null  object\n",
      " 4   converted            10022 non-null  object\n",
      " 5   language_displayed   10037 non-null  object\n",
      " 6   language_preferred   10037 non-null  object\n",
      " 7   age_group            10037 non-null  object\n",
      " 8   date_subscribed      1856 non-null   object\n",
      " 9   date_canceled        577 non-null    object\n",
      " 10  subscribing_channel  1856 non-null   object\n",
      " 11  is_retained          1856 non-null   object\n",
      "dtypes: object(12)\n",
      "memory usage: 941.1+ KB\n"
     ]
    }
   ],
   "source": [
    "df.info()\n"
   ]
  },
  {
   "cell_type": "markdown",
   "id": "07b8316c",
   "metadata": {},
   "source": [
    "## Summary Statistics"
   ]
  },
  {
   "cell_type": "code",
   "execution_count": 5,
   "id": "36f9bb9d",
   "metadata": {},
   "outputs": [
    {
     "name": "stdout",
     "output_type": "stream",
     "text": [
      "           user_id date_served marketing_channel  variant converted  \\\n",
      "count        10037       10021             10022    10037     10022   \n",
      "unique        7309          31                 5        2         2   \n",
      "top     a100000882     1/15/18         House Ads  control     False   \n",
      "freq            12         789              4733     5091      8946   \n",
      "\n",
      "       language_displayed language_preferred    age_group date_subscribed  \\\n",
      "count               10037              10037        10037            1856   \n",
      "unique                  4                  4            7              31   \n",
      "top               English            English  19-24 years         1/16/18   \n",
      "freq                 9793               9275         1682             163   \n",
      "\n",
      "       date_canceled subscribing_channel is_retained  \n",
      "count            577                1856        1856  \n",
      "unique           115                   5           2  \n",
      "top           4/2/18           Instagram        True  \n",
      "freq              15                 600        1279  \n"
     ]
    }
   ],
   "source": [
    "# To summarize the file \n",
    "print(df.describe())"
   ]
  },
  {
   "cell_type": "markdown",
   "id": "1c3174c2",
   "metadata": {},
   "source": [
    "# Data Cleaning: Analyzing individual columns & fixing data types\n"
   ]
  },
  {
   "cell_type": "code",
   "execution_count": 6,
   "id": "bb62e0bb",
   "metadata": {},
   "outputs": [
    {
     "data": {
      "text/plain": [
       "dtype('O')"
      ]
     },
     "execution_count": 6,
     "metadata": {},
     "output_type": "execute_result"
    }
   ],
   "source": [
    "#The column [converted] data type should be boolean not object from the formular \".info\"\n",
    "df['converted'].dtype\n"
   ]
  },
  {
   "cell_type": "markdown",
   "id": "8aa31c45",
   "metadata": {},
   "source": [
    "### changing the data type of column [converted] to Boolean"
   ]
  },
  {
   "cell_type": "code",
   "execution_count": 7,
   "id": "6ee03116",
   "metadata": {},
   "outputs": [
    {
     "data": {
      "text/plain": [
       "0         True\n",
       "1         True\n",
       "2         True\n",
       "3         True\n",
       "4         True\n",
       "         ...  \n",
       "10032     True\n",
       "10033     True\n",
       "10034    False\n",
       "10035     True\n",
       "10036    False\n",
       "Name: converted, Length: 10037, dtype: boolean"
      ]
     },
     "execution_count": 7,
     "metadata": {},
     "output_type": "execute_result"
    }
   ],
   "source": [
    "df['converted'].astype('boolean')"
   ]
  },
  {
   "cell_type": "code",
   "execution_count": 8,
   "id": "4a820268",
   "metadata": {},
   "outputs": [
    {
     "data": {
      "text/plain": [
       "BooleanDtype"
      ]
     },
     "execution_count": 8,
     "metadata": {},
     "output_type": "execute_result"
    }
   ],
   "source": [
    "df['converted']= df['converted'].astype('boolean')\n",
    "df['converted'].dtype"
   ]
  },
  {
   "cell_type": "markdown",
   "id": "7d7c5275",
   "metadata": {},
   "source": [
    "## checking the column [user_id]"
   ]
  },
  {
   "cell_type": "code",
   "execution_count": 9,
   "id": "5319bf8d",
   "metadata": {},
   "outputs": [
    {
     "data": {
      "text/plain": [
       "array([10,  9], dtype=int64)"
      ]
     },
     "execution_count": 9,
     "metadata": {},
     "output_type": "execute_result"
    }
   ],
   "source": [
    "#this checks the length of characters in each of the particular column\n",
    "\n",
    "id_len = df['user_id'].apply(lambda x:len(x))\n",
    "\n",
    "df['user_id'].astype(str).str[0].unique()\n",
    "id_len.unique()\n",
    "\n"
   ]
  },
  {
   "cell_type": "code",
   "execution_count": null,
   "id": "8ee81462",
   "metadata": {},
   "outputs": [],
   "source": [
    "# the above output gave unique numbers of  10 & 9,we need to confirm why this difference or whether it is an error\n",
    "#lets check the [user_id] that has 9 characters\n",
    "condition=df['user_id'].str.len()==9\n",
    "\n",
    "#lets add a dataframe to the variable: df[condition] and referenced to a variable\n",
    "df_filtered =df[condition]\n",
    "\n",
    "#lets check the result\n",
    "df_filtered\n"
   ]
  },
  {
   "cell_type": "code",
   "execution_count": null,
   "id": "2bfa1f4b",
   "metadata": {},
   "outputs": [],
   "source": [
    "#after little research,the most significant is the first character of the first variable,so found that if all are the same\n",
    "\n",
    "df['user_id'].astype('str').str[0].unique()"
   ]
  },
  {
   "cell_type": "markdown",
   "id": "2a25f262",
   "metadata": {},
   "source": [
    "**The above output signify that all the [user_id] has their first character to be 'a',this satisfactory for column[user_id]**"
   ]
  },
  {
   "cell_type": "markdown",
   "id": "1047cdfa",
   "metadata": {},
   "source": [
    "## changing the Date Format"
   ]
  },
  {
   "cell_type": "code",
   "execution_count": null,
   "id": "bf5e8065",
   "metadata": {},
   "outputs": [],
   "source": [
    "df['date_served'] = pd.to_datetime(\n",
    "df['date_served'])\n",
    "\n",
    "df['date_subscribed'] = pd.to_datetime(\n",
    "df['date_subscribed'])\n",
    "\n",
    "df['date_canceled'] = pd.to_datetime(\n",
    "df['date_canceled'])\n",
    "\n",
    "df['date_canceled']"
   ]
  },
  {
   "cell_type": "code",
   "execution_count": null,
   "id": "e8010f1f",
   "metadata": {},
   "outputs": [],
   "source": []
  },
  {
   "cell_type": "code",
   "execution_count": null,
   "id": "795af3ab",
   "metadata": {},
   "outputs": [],
   "source": []
  }
 ],
 "metadata": {
  "kernelspec": {
   "display_name": "Python 3 (ipykernel)",
   "language": "python",
   "name": "python3"
  },
  "language_info": {
   "codemirror_mode": {
    "name": "ipython",
    "version": 3
   },
   "file_extension": ".py",
   "mimetype": "text/x-python",
   "name": "python",
   "nbconvert_exporter": "python",
   "pygments_lexer": "ipython3",
   "version": "3.9.1"
  }
 },
 "nbformat": 4,
 "nbformat_minor": 5
}
