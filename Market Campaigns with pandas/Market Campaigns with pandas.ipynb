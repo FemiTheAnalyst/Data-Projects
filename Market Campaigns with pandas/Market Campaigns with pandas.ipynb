{
 "cells": [
  {
   "cell_type": "markdown",
   "id": "45cb6611",
   "metadata": {},
   "source": [
    "**Import data using pandas**"
   ]
  },
  {
   "cell_type": "code",
   "execution_count": 1,
   "id": "18379cdc",
   "metadata": {},
   "outputs": [],
   "source": [
    "import pandas as pd\n"
   ]
  },
  {
   "cell_type": "code",
   "execution_count": 2,
   "id": "9e7d1f17",
   "metadata": {},
   "outputs": [],
   "source": [
    "marketing = pd.read_csv('G:\\My Drive\\Analytics\\marketing.csv')"
   ]
  },
  {
   "cell_type": "markdown",
   "id": "3449e897",
   "metadata": {},
   "source": [
    "## Inspecting data"
   ]
  },
  {
   "cell_type": "code",
   "execution_count": 3,
   "id": "ddb32897",
   "metadata": {},
   "outputs": [
    {
     "name": "stdout",
     "output_type": "stream",
     "text": [
      "      user_id date_served marketing_channel          variant converted  \\\n",
      "0  a100000029      1/1/18         House Ads  personalization      True   \n",
      "1  a100000030      1/1/18         House Ads  personalization      True   \n",
      "2  a100000031      1/1/18         House Ads  personalization      True   \n",
      "3  a100000032      1/1/18         House Ads  personalization      True   \n",
      "4  a100000033      1/1/18         House Ads  personalization      True   \n",
      "\n",
      "  language_displayed language_preferred    age_group date_subscribed  \\\n",
      "0            English            English   0-18 years          1/1/18   \n",
      "1            English            English  19-24 years          1/1/18   \n",
      "2            English            English  24-30 years          1/1/18   \n",
      "3            English            English  30-36 years          1/1/18   \n",
      "4            English            English  36-45 years          1/1/18   \n",
      "\n",
      "  date_canceled subscribing_channel is_retained  \n",
      "0           NaN           House Ads        True  \n",
      "1           NaN           House Ads        True  \n",
      "2           NaN           House Ads        True  \n",
      "3           NaN           House Ads        True  \n",
      "4           NaN           House Ads        True  \n"
     ]
    }
   ],
   "source": [
    "print(marketing.head())"
   ]
  },
  {
   "cell_type": "markdown",
   "id": "a9d817e5",
   "metadata": {},
   "source": [
    "## Checking data types & missing values"
   ]
  },
  {
   "cell_type": "code",
   "execution_count": 4,
   "id": "a746f3f8",
   "metadata": {},
   "outputs": [
    {
     "name": "stdout",
     "output_type": "stream",
     "text": [
      "<class 'pandas.core.frame.DataFrame'>\n",
      "RangeIndex: 10037 entries, 0 to 10036\n",
      "Data columns (total 12 columns):\n",
      " #   Column               Non-Null Count  Dtype \n",
      "---  ------               --------------  ----- \n",
      " 0   user_id              10037 non-null  object\n",
      " 1   date_served          10021 non-null  object\n",
      " 2   marketing_channel    10022 non-null  object\n",
      " 3   variant              10037 non-null  object\n",
      " 4   converted            10022 non-null  object\n",
      " 5   language_displayed   10037 non-null  object\n",
      " 6   language_preferred   10037 non-null  object\n",
      " 7   age_group            10037 non-null  object\n",
      " 8   date_subscribed      1856 non-null   object\n",
      " 9   date_canceled        577 non-null    object\n",
      " 10  subscribing_channel  1856 non-null   object\n",
      " 11  is_retained          1856 non-null   object\n",
      "dtypes: object(12)\n",
      "memory usage: 941.1+ KB\n"
     ]
    }
   ],
   "source": [
    "marketing.info()\n"
   ]
  },
  {
   "cell_type": "markdown",
   "id": "07b8316c",
   "metadata": {},
   "source": [
    "## Summary Statistics"
   ]
  },
  {
   "cell_type": "code",
   "execution_count": 5,
   "id": "5f508694",
   "metadata": {},
   "outputs": [
    {
     "name": "stdout",
     "output_type": "stream",
     "text": [
      "           user_id date_served marketing_channel  variant converted  \\\n",
      "count        10037       10021             10022    10037     10022   \n",
      "unique        7309          31                 5        2         2   \n",
      "top     a100000882     1/15/18         House Ads  control     False   \n",
      "freq            12         789              4733     5091      8946   \n",
      "\n",
      "       language_displayed language_preferred    age_group date_subscribed  \\\n",
      "count               10037              10037        10037            1856   \n",
      "unique                  4                  4            7              31   \n",
      "top               English            English  19-24 years         1/16/18   \n",
      "freq                 9793               9275         1682             163   \n",
      "\n",
      "       date_canceled subscribing_channel is_retained  \n",
      "count            577                1856        1856  \n",
      "unique           115                   5           2  \n",
      "top           4/2/18           Instagram        True  \n",
      "freq              15                 600        1279  \n"
     ]
    }
   ],
   "source": [
    "# To summarize the file \n",
    "print(marketing.describe())"
   ]
  }
 ],
 "metadata": {
  "kernelspec": {
   "display_name": "Python 3 (ipykernel)",
   "language": "python",
   "name": "python3"
  },
  "language_info": {
   "codemirror_mode": {
    "name": "ipython",
    "version": 3
   },
   "file_extension": ".py",
   "mimetype": "text/x-python",
   "name": "python",
   "nbconvert_exporter": "python",
   "pygments_lexer": "ipython3",
   "version": "3.9.1"
  }
 },
 "nbformat": 4,
 "nbformat_minor": 5
}
