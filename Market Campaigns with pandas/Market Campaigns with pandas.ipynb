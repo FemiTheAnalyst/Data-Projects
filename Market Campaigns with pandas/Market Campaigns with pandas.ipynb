{
 "cells": [
  {
   "cell_type": "markdown",
   "id": "45cb6611",
   "metadata": {},
   "source": [
    "**Import data using pandas**"
   ]
  },
  {
   "cell_type": "code",
   "execution_count": 1,
   "id": "18379cdc",
   "metadata": {},
   "outputs": [],
   "source": [
    "import pandas as pd\n",
    "import numpy as np\n",
    "import matplotlib.pyplot as plt"
   ]
  },
  {
   "cell_type": "code",
   "execution_count": 2,
   "id": "9e7d1f17",
   "metadata": {},
   "outputs": [],
   "source": [
    "df = pd.read_csv(r'G:\\My Drive\\Analytics\\marketing.csv')\n"
   ]
  },
  {
   "cell_type": "markdown",
   "id": "3449e897",
   "metadata": {},
   "source": [
    "## Inspecting data"
   ]
  },
  {
   "cell_type": "code",
   "execution_count": 3,
   "id": "ddb32897",
   "metadata": {},
   "outputs": [
    {
     "name": "stdout",
     "output_type": "stream",
     "text": [
      "      user_id date_served marketing_channel          variant converted  \\\n",
      "0  a100000029      1/1/18         House Ads  personalization      True   \n",
      "1  a100000030      1/1/18         House Ads  personalization      True   \n",
      "2  a100000031      1/1/18         House Ads  personalization      True   \n",
      "3  a100000032      1/1/18         House Ads  personalization      True   \n",
      "4  a100000033      1/1/18         House Ads  personalization      True   \n",
      "\n",
      "  language_displayed language_preferred    age_group date_subscribed  \\\n",
      "0            English            English   0-18 years          1/1/18   \n",
      "1            English            English  19-24 years          1/1/18   \n",
      "2            English            English  24-30 years          1/1/18   \n",
      "3            English            English  30-36 years          1/1/18   \n",
      "4            English            English  36-45 years          1/1/18   \n",
      "\n",
      "  date_canceled subscribing_channel is_retained  \n",
      "0           NaN           House Ads        True  \n",
      "1           NaN           House Ads        True  \n",
      "2           NaN           House Ads        True  \n",
      "3           NaN           House Ads        True  \n",
      "4           NaN           House Ads        True  \n"
     ]
    }
   ],
   "source": [
    "print(df.head())"
   ]
  },
  {
   "cell_type": "markdown",
   "id": "a9d817e5",
   "metadata": {},
   "source": [
    "## Checking data types & missing values"
   ]
  },
  {
   "cell_type": "code",
   "execution_count": 4,
   "id": "a746f3f8",
   "metadata": {},
   "outputs": [
    {
     "name": "stdout",
     "output_type": "stream",
     "text": [
      "<class 'pandas.core.frame.DataFrame'>\n",
      "RangeIndex: 10037 entries, 0 to 10036\n",
      "Data columns (total 12 columns):\n",
      " #   Column               Non-Null Count  Dtype \n",
      "---  ------               --------------  ----- \n",
      " 0   user_id              10037 non-null  object\n",
      " 1   date_served          10021 non-null  object\n",
      " 2   marketing_channel    10022 non-null  object\n",
      " 3   variant              10037 non-null  object\n",
      " 4   converted            10022 non-null  object\n",
      " 5   language_displayed   10037 non-null  object\n",
      " 6   language_preferred   10037 non-null  object\n",
      " 7   age_group            10037 non-null  object\n",
      " 8   date_subscribed      1856 non-null   object\n",
      " 9   date_canceled        577 non-null    object\n",
      " 10  subscribing_channel  1856 non-null   object\n",
      " 11  is_retained          1856 non-null   object\n",
      "dtypes: object(12)\n",
      "memory usage: 941.1+ KB\n"
     ]
    }
   ],
   "source": [
    "df.info()\n"
   ]
  },
  {
   "cell_type": "markdown",
   "id": "07b8316c",
   "metadata": {},
   "source": [
    "## Summary Statistics"
   ]
  },
  {
   "cell_type": "code",
   "execution_count": 5,
   "id": "41dfe89b",
   "metadata": {},
   "outputs": [
    {
     "name": "stdout",
     "output_type": "stream",
     "text": [
      "           user_id date_served marketing_channel  variant converted  \\\n",
      "count        10037       10021             10022    10037     10022   \n",
      "unique        7309          31                 5        2         2   \n",
      "top     a100000882     1/15/18         House Ads  control     False   \n",
      "freq            12         789              4733     5091      8946   \n",
      "\n",
      "       language_displayed language_preferred    age_group date_subscribed  \\\n",
      "count               10037              10037        10037            1856   \n",
      "unique                  4                  4            7              31   \n",
      "top               English            English  19-24 years         1/16/18   \n",
      "freq                 9793               9275         1682             163   \n",
      "\n",
      "       date_canceled subscribing_channel is_retained  \n",
      "count            577                1856        1856  \n",
      "unique           115                   5           2  \n",
      "top           4/2/18           Instagram        True  \n",
      "freq              15                 600        1279  \n"
     ]
    }
   ],
   "source": [
    "# To summarize the file \n",
    "print(df.describe())"
   ]
  },
  {
   "cell_type": "markdown",
   "id": "fbc3bcb2",
   "metadata": {},
   "source": [
    "# Data Cleaning: Analyzing individual columns & fixing data types\n"
   ]
  },
  {
   "cell_type": "code",
   "execution_count": 6,
   "id": "a1042e42",
   "metadata": {},
   "outputs": [
    {
     "data": {
      "text/plain": [
       "dtype('O')"
      ]
     },
     "execution_count": 6,
     "metadata": {},
     "output_type": "execute_result"
    }
   ],
   "source": [
    "#The column [converted] data type should be boolean not object from the formular \".info\"\n",
    "df['converted'].dtype\n"
   ]
  },
  {
   "cell_type": "markdown",
   "id": "28e463a5",
   "metadata": {},
   "source": [
    "### changing the data type of column [converted] to Boolean"
   ]
  },
  {
   "cell_type": "code",
   "execution_count": 7,
   "id": "30a4af34",
   "metadata": {},
   "outputs": [
    {
     "data": {
      "text/plain": [
       "0         True\n",
       "1         True\n",
       "2         True\n",
       "3         True\n",
       "4         True\n",
       "         ...  \n",
       "10032     True\n",
       "10033     True\n",
       "10034    False\n",
       "10035     True\n",
       "10036    False\n",
       "Name: converted, Length: 10037, dtype: boolean"
      ]
     },
     "execution_count": 7,
     "metadata": {},
     "output_type": "execute_result"
    }
   ],
   "source": [
    "df['converted'].astype('boolean')"
   ]
  },
  {
   "cell_type": "code",
   "execution_count": 8,
   "id": "42cfd5fa",
   "metadata": {},
   "outputs": [
    {
     "data": {
      "text/plain": [
       "BooleanDtype"
      ]
     },
     "execution_count": 8,
     "metadata": {},
     "output_type": "execute_result"
    }
   ],
   "source": [
    "df['converted']= df['converted'].astype('boolean')\n",
    "df['converted'].dtype"
   ]
  },
  {
   "cell_type": "markdown",
   "id": "f63f1ec2",
   "metadata": {},
   "source": [
    "## checking the column [user_id]"
   ]
  },
  {
   "cell_type": "code",
   "execution_count": 9,
   "id": "2a25c1ed",
   "metadata": {},
   "outputs": [
    {
     "data": {
      "text/plain": [
       "array([10,  9], dtype=int64)"
      ]
     },
     "execution_count": 9,
     "metadata": {},
     "output_type": "execute_result"
    }
   ],
   "source": [
    "#this checks the length of characters in each of the particular column\n",
    "\n",
    "id_len = df['user_id'].apply(lambda x:len(x))\n",
    "\n",
    "df['user_id'].astype(str).str[0].unique()\n",
    "id_len.unique()\n",
    "\n"
   ]
  },
  {
   "cell_type": "code",
   "execution_count": 10,
   "id": "00db432e",
   "metadata": {},
   "outputs": [
    {
     "data": {
      "text/html": [
       "<div>\n",
       "<style scoped>\n",
       "    .dataframe tbody tr th:only-of-type {\n",
       "        vertical-align: middle;\n",
       "    }\n",
       "\n",
       "    .dataframe tbody tr th {\n",
       "        vertical-align: top;\n",
       "    }\n",
       "\n",
       "    .dataframe thead th {\n",
       "        text-align: right;\n",
       "    }\n",
       "</style>\n",
       "<table border=\"1\" class=\"dataframe\">\n",
       "  <thead>\n",
       "    <tr style=\"text-align: right;\">\n",
       "      <th></th>\n",
       "      <th>user_id</th>\n",
       "      <th>date_served</th>\n",
       "      <th>marketing_channel</th>\n",
       "      <th>variant</th>\n",
       "      <th>converted</th>\n",
       "      <th>language_displayed</th>\n",
       "      <th>language_preferred</th>\n",
       "      <th>age_group</th>\n",
       "      <th>date_subscribed</th>\n",
       "      <th>date_canceled</th>\n",
       "      <th>subscribing_channel</th>\n",
       "      <th>is_retained</th>\n",
       "    </tr>\n",
       "  </thead>\n",
       "  <tbody>\n",
       "    <tr>\n",
       "      <th>9944</th>\n",
       "      <td>a10009231</td>\n",
       "      <td>NaN</td>\n",
       "      <td>NaN</td>\n",
       "      <td>control</td>\n",
       "      <td>&lt;NA&gt;</td>\n",
       "      <td>English</td>\n",
       "      <td>English</td>\n",
       "      <td>19-24 years</td>\n",
       "      <td>NaN</td>\n",
       "      <td>NaN</td>\n",
       "      <td>NaN</td>\n",
       "      <td>NaN</td>\n",
       "    </tr>\n",
       "    <tr>\n",
       "      <th>9945</th>\n",
       "      <td>a10009232</td>\n",
       "      <td>NaN</td>\n",
       "      <td>NaN</td>\n",
       "      <td>control</td>\n",
       "      <td>&lt;NA&gt;</td>\n",
       "      <td>English</td>\n",
       "      <td>English</td>\n",
       "      <td>24-30 years</td>\n",
       "      <td>NaN</td>\n",
       "      <td>NaN</td>\n",
       "      <td>NaN</td>\n",
       "      <td>NaN</td>\n",
       "    </tr>\n",
       "    <tr>\n",
       "      <th>9946</th>\n",
       "      <td>a10009233</td>\n",
       "      <td>NaN</td>\n",
       "      <td>NaN</td>\n",
       "      <td>control</td>\n",
       "      <td>&lt;NA&gt;</td>\n",
       "      <td>English</td>\n",
       "      <td>English</td>\n",
       "      <td>30-36 years</td>\n",
       "      <td>NaN</td>\n",
       "      <td>NaN</td>\n",
       "      <td>NaN</td>\n",
       "      <td>NaN</td>\n",
       "    </tr>\n",
       "    <tr>\n",
       "      <th>9947</th>\n",
       "      <td>a10009234</td>\n",
       "      <td>NaN</td>\n",
       "      <td>NaN</td>\n",
       "      <td>control</td>\n",
       "      <td>&lt;NA&gt;</td>\n",
       "      <td>English</td>\n",
       "      <td>English</td>\n",
       "      <td>36-45 years</td>\n",
       "      <td>NaN</td>\n",
       "      <td>NaN</td>\n",
       "      <td>NaN</td>\n",
       "      <td>NaN</td>\n",
       "    </tr>\n",
       "    <tr>\n",
       "      <th>9948</th>\n",
       "      <td>a10009235</td>\n",
       "      <td>NaN</td>\n",
       "      <td>NaN</td>\n",
       "      <td>control</td>\n",
       "      <td>&lt;NA&gt;</td>\n",
       "      <td>English</td>\n",
       "      <td>English</td>\n",
       "      <td>45-55 years</td>\n",
       "      <td>NaN</td>\n",
       "      <td>NaN</td>\n",
       "      <td>NaN</td>\n",
       "      <td>NaN</td>\n",
       "    </tr>\n",
       "    <tr>\n",
       "      <th>9949</th>\n",
       "      <td>a10009236</td>\n",
       "      <td>NaN</td>\n",
       "      <td>NaN</td>\n",
       "      <td>control</td>\n",
       "      <td>&lt;NA&gt;</td>\n",
       "      <td>English</td>\n",
       "      <td>English</td>\n",
       "      <td>55+ years</td>\n",
       "      <td>NaN</td>\n",
       "      <td>NaN</td>\n",
       "      <td>NaN</td>\n",
       "      <td>NaN</td>\n",
       "    </tr>\n",
       "    <tr>\n",
       "      <th>9950</th>\n",
       "      <td>a10009237</td>\n",
       "      <td>NaN</td>\n",
       "      <td>NaN</td>\n",
       "      <td>control</td>\n",
       "      <td>&lt;NA&gt;</td>\n",
       "      <td>English</td>\n",
       "      <td>English</td>\n",
       "      <td>0-18 years</td>\n",
       "      <td>NaN</td>\n",
       "      <td>NaN</td>\n",
       "      <td>NaN</td>\n",
       "      <td>NaN</td>\n",
       "    </tr>\n",
       "    <tr>\n",
       "      <th>9951</th>\n",
       "      <td>a10009238</td>\n",
       "      <td>NaN</td>\n",
       "      <td>NaN</td>\n",
       "      <td>control</td>\n",
       "      <td>&lt;NA&gt;</td>\n",
       "      <td>English</td>\n",
       "      <td>English</td>\n",
       "      <td>19-24 years</td>\n",
       "      <td>NaN</td>\n",
       "      <td>NaN</td>\n",
       "      <td>NaN</td>\n",
       "      <td>NaN</td>\n",
       "    </tr>\n",
       "    <tr>\n",
       "      <th>9952</th>\n",
       "      <td>a10009239</td>\n",
       "      <td>NaN</td>\n",
       "      <td>NaN</td>\n",
       "      <td>control</td>\n",
       "      <td>&lt;NA&gt;</td>\n",
       "      <td>English</td>\n",
       "      <td>English</td>\n",
       "      <td>24-30 years</td>\n",
       "      <td>NaN</td>\n",
       "      <td>NaN</td>\n",
       "      <td>NaN</td>\n",
       "      <td>NaN</td>\n",
       "    </tr>\n",
       "    <tr>\n",
       "      <th>9953</th>\n",
       "      <td>a10009240</td>\n",
       "      <td>NaN</td>\n",
       "      <td>NaN</td>\n",
       "      <td>control</td>\n",
       "      <td>&lt;NA&gt;</td>\n",
       "      <td>English</td>\n",
       "      <td>English</td>\n",
       "      <td>30-36 years</td>\n",
       "      <td>NaN</td>\n",
       "      <td>NaN</td>\n",
       "      <td>NaN</td>\n",
       "      <td>NaN</td>\n",
       "    </tr>\n",
       "    <tr>\n",
       "      <th>9954</th>\n",
       "      <td>a10009241</td>\n",
       "      <td>NaN</td>\n",
       "      <td>NaN</td>\n",
       "      <td>control</td>\n",
       "      <td>&lt;NA&gt;</td>\n",
       "      <td>English</td>\n",
       "      <td>English</td>\n",
       "      <td>36-45 years</td>\n",
       "      <td>NaN</td>\n",
       "      <td>NaN</td>\n",
       "      <td>NaN</td>\n",
       "      <td>NaN</td>\n",
       "    </tr>\n",
       "    <tr>\n",
       "      <th>9955</th>\n",
       "      <td>a10009242</td>\n",
       "      <td>NaN</td>\n",
       "      <td>NaN</td>\n",
       "      <td>control</td>\n",
       "      <td>&lt;NA&gt;</td>\n",
       "      <td>English</td>\n",
       "      <td>English</td>\n",
       "      <td>45-55 years</td>\n",
       "      <td>NaN</td>\n",
       "      <td>NaN</td>\n",
       "      <td>NaN</td>\n",
       "      <td>NaN</td>\n",
       "    </tr>\n",
       "    <tr>\n",
       "      <th>9956</th>\n",
       "      <td>a10009243</td>\n",
       "      <td>NaN</td>\n",
       "      <td>NaN</td>\n",
       "      <td>control</td>\n",
       "      <td>&lt;NA&gt;</td>\n",
       "      <td>English</td>\n",
       "      <td>English</td>\n",
       "      <td>55+ years</td>\n",
       "      <td>NaN</td>\n",
       "      <td>NaN</td>\n",
       "      <td>NaN</td>\n",
       "      <td>NaN</td>\n",
       "    </tr>\n",
       "    <tr>\n",
       "      <th>9957</th>\n",
       "      <td>a10009244</td>\n",
       "      <td>NaN</td>\n",
       "      <td>NaN</td>\n",
       "      <td>control</td>\n",
       "      <td>&lt;NA&gt;</td>\n",
       "      <td>English</td>\n",
       "      <td>English</td>\n",
       "      <td>0-18 years</td>\n",
       "      <td>NaN</td>\n",
       "      <td>NaN</td>\n",
       "      <td>NaN</td>\n",
       "      <td>NaN</td>\n",
       "    </tr>\n",
       "    <tr>\n",
       "      <th>9958</th>\n",
       "      <td>a10009245</td>\n",
       "      <td>NaN</td>\n",
       "      <td>NaN</td>\n",
       "      <td>control</td>\n",
       "      <td>&lt;NA&gt;</td>\n",
       "      <td>English</td>\n",
       "      <td>English</td>\n",
       "      <td>19-24 years</td>\n",
       "      <td>NaN</td>\n",
       "      <td>NaN</td>\n",
       "      <td>NaN</td>\n",
       "      <td>NaN</td>\n",
       "    </tr>\n",
       "  </tbody>\n",
       "</table>\n",
       "</div>"
      ],
      "text/plain": [
       "        user_id date_served marketing_channel  variant  converted  \\\n",
       "9944  a10009231         NaN               NaN  control       <NA>   \n",
       "9945  a10009232         NaN               NaN  control       <NA>   \n",
       "9946  a10009233         NaN               NaN  control       <NA>   \n",
       "9947  a10009234         NaN               NaN  control       <NA>   \n",
       "9948  a10009235         NaN               NaN  control       <NA>   \n",
       "9949  a10009236         NaN               NaN  control       <NA>   \n",
       "9950  a10009237         NaN               NaN  control       <NA>   \n",
       "9951  a10009238         NaN               NaN  control       <NA>   \n",
       "9952  a10009239         NaN               NaN  control       <NA>   \n",
       "9953  a10009240         NaN               NaN  control       <NA>   \n",
       "9954  a10009241         NaN               NaN  control       <NA>   \n",
       "9955  a10009242         NaN               NaN  control       <NA>   \n",
       "9956  a10009243         NaN               NaN  control       <NA>   \n",
       "9957  a10009244         NaN               NaN  control       <NA>   \n",
       "9958  a10009245         NaN               NaN  control       <NA>   \n",
       "\n",
       "     language_displayed language_preferred    age_group date_subscribed  \\\n",
       "9944            English            English  19-24 years             NaN   \n",
       "9945            English            English  24-30 years             NaN   \n",
       "9946            English            English  30-36 years             NaN   \n",
       "9947            English            English  36-45 years             NaN   \n",
       "9948            English            English  45-55 years             NaN   \n",
       "9949            English            English    55+ years             NaN   \n",
       "9950            English            English   0-18 years             NaN   \n",
       "9951            English            English  19-24 years             NaN   \n",
       "9952            English            English  24-30 years             NaN   \n",
       "9953            English            English  30-36 years             NaN   \n",
       "9954            English            English  36-45 years             NaN   \n",
       "9955            English            English  45-55 years             NaN   \n",
       "9956            English            English    55+ years             NaN   \n",
       "9957            English            English   0-18 years             NaN   \n",
       "9958            English            English  19-24 years             NaN   \n",
       "\n",
       "     date_canceled subscribing_channel is_retained  \n",
       "9944           NaN                 NaN         NaN  \n",
       "9945           NaN                 NaN         NaN  \n",
       "9946           NaN                 NaN         NaN  \n",
       "9947           NaN                 NaN         NaN  \n",
       "9948           NaN                 NaN         NaN  \n",
       "9949           NaN                 NaN         NaN  \n",
       "9950           NaN                 NaN         NaN  \n",
       "9951           NaN                 NaN         NaN  \n",
       "9952           NaN                 NaN         NaN  \n",
       "9953           NaN                 NaN         NaN  \n",
       "9954           NaN                 NaN         NaN  \n",
       "9955           NaN                 NaN         NaN  \n",
       "9956           NaN                 NaN         NaN  \n",
       "9957           NaN                 NaN         NaN  \n",
       "9958           NaN                 NaN         NaN  "
      ]
     },
     "execution_count": 10,
     "metadata": {},
     "output_type": "execute_result"
    }
   ],
   "source": [
    "# the above output gave unique numbers of  10 & 9,we need to confirm why this difference or whether it is an error\n",
    "#lets check the [user_id] that has 9 characters\n",
    "condition=df['user_id'].str.len()==9\n",
    "\n",
    "#lets add a dataframe to the variable: df[condition] and referenced to a variable\n",
    "df_filtered =df[condition]\n",
    "\n",
    "#lets check the result\n",
    "df_filtered\n"
   ]
  },
  {
   "cell_type": "code",
   "execution_count": 11,
   "id": "06d916b0",
   "metadata": {},
   "outputs": [
    {
     "data": {
      "text/plain": [
       "array(['a'], dtype=object)"
      ]
     },
     "execution_count": 11,
     "metadata": {},
     "output_type": "execute_result"
    }
   ],
   "source": [
    "#after little research,the most significant is the first character of the first variable,so found that if all are the same\n",
    "\n",
    "df['user_id'].astype('str').str[0].unique()"
   ]
  },
  {
   "cell_type": "markdown",
   "id": "ab888f3d",
   "metadata": {},
   "source": [
    "**The above output signify that all the [user_id] has their first character to be 'a',this satisfactory for column[user_id]**"
   ]
  },
  {
   "cell_type": "markdown",
   "id": "1a967a77",
   "metadata": {},
   "source": [
    "## changing the Date Format"
   ]
  },
  {
   "cell_type": "code",
   "execution_count": 12,
   "id": "7129f4f6",
   "metadata": {},
   "outputs": [
    {
     "data": {
      "text/plain": [
       "0              NaT\n",
       "1              NaT\n",
       "2              NaT\n",
       "3              NaT\n",
       "4              NaT\n",
       "           ...    \n",
       "10032   2018-01-24\n",
       "10033          NaT\n",
       "10034          NaT\n",
       "10035          NaT\n",
       "10036          NaT\n",
       "Name: date_canceled, Length: 10037, dtype: datetime64[ns]"
      ]
     },
     "execution_count": 12,
     "metadata": {},
     "output_type": "execute_result"
    }
   ],
   "source": [
    "#To change the format from from mm/dd/yyy to yyyy-mm-dd\n",
    "\n",
    "df['date_served'] = pd.to_datetime(\n",
    "df['date_served'])\n",
    "\n",
    "df['date_subscribed'] = pd.to_datetime(\n",
    "df['date_subscribed'])\n",
    "\n",
    "df['date_canceled'] = pd.to_datetime(\n",
    "df['date_canceled'])\n",
    "\n",
    "df['date_canceled']\n"
   ]
  },
  {
   "cell_type": "code",
   "execution_count": 13,
   "id": "dc4f4018",
   "metadata": {},
   "outputs": [
    {
     "data": {
      "text/plain": [
       "0        0.0\n",
       "1        0.0\n",
       "2        0.0\n",
       "3        0.0\n",
       "4        0.0\n",
       "        ... \n",
       "10032    2.0\n",
       "10033    2.0\n",
       "10034    4.0\n",
       "10035    2.0\n",
       "10036    5.0\n",
       "Name: day_served, Length: 10037, dtype: float64"
      ]
     },
     "execution_count": 13,
     "metadata": {},
     "output_type": "execute_result"
    }
   ],
   "source": [
    "#creating a new column that signify the day of the week it was served\n",
    "#could not be converted to int due to null values\n",
    "\n",
    "df['day_served'] = df['date_served'].dt.dayofweek\n",
    "#df['date_served'].dt.dayofweek.sort_values(ascending=False)\n",
    "df['day_served']"
   ]
  },
  {
   "cell_type": "code",
   "execution_count": 14,
   "id": "63c77fd3",
   "metadata": {},
   "outputs": [
    {
     "data": {
      "text/plain": [
       "0        Mon\n",
       "1        Mon\n",
       "2        Mon\n",
       "3        Mon\n",
       "4        Mon\n",
       "        ... \n",
       "10032    Wed\n",
       "10033    Wed\n",
       "10034    Fri\n",
       "10035    Wed\n",
       "10036    Sat\n",
       "Name: day_served, Length: 10021, dtype: object"
      ]
     },
     "execution_count": 14,
     "metadata": {},
     "output_type": "execute_result"
    }
   ],
   "source": [
    " # Creating a  weekday  dictionary\n",
    "weekday_dict={0.0:'Mon', 1.0:'Tues', 2.0:'Wed', 3.0:'Thu', 4.0:'Fri', 5.0:'Sat', 6.0:'Sun'}\n",
    "    \n",
    "# Then map the weekday dict to the created day_sered\n",
    "df['day_served'] = df['day_served'].map(weekday_dict)\n",
    "df['day_served'].dropna()\n"
   ]
  },
  {
   "cell_type": "markdown",
   "id": "b1fbc9d4",
   "metadata": {},
   "source": [
    "## working with the age group column"
   ]
  },
  {
   "cell_type": "code",
   "execution_count": 15,
   "id": "69c46b34",
   "metadata": {},
   "outputs": [
    {
     "data": {
      "text/plain": [
       "0     0-18\n",
       "1    19-24\n",
       "2    24-30\n",
       "Name: age_group, dtype: object"
      ]
     },
     "execution_count": 15,
     "metadata": {},
     "output_type": "execute_result"
    }
   ],
   "source": [
    "#To remove  a particular string in a variable say like(50 years to 50)\n",
    "df['age_group'] = df['age_group'].str.replace(\" years\",\"\")\n",
    "df['age_group'].head(3)\n"
   ]
  },
  {
   "cell_type": "markdown",
   "id": "77436377",
   "metadata": {},
   "source": [
    "\n",
    "## Checking if language displayed is same as language preferred\n",
    "\n",
    "\n"
   ]
  },
  {
   "cell_type": "code",
   "execution_count": 16,
   "id": "796bda9b",
   "metadata": {},
   "outputs": [
    {
     "name": "stdout",
     "output_type": "stream",
     "text": [
      "Language is not correct for 522 observations\n"
     ]
    }
   ],
   "source": [
    "df['is_language_correct']=(df['language_displayed']==df['language_preferred'])\n",
    "print(\"Language is not correct for {} observations\".format(df['is_language_correct'].count()-df['is_language_correct'].sum()))\n",
    " \n",
    "#* count()-counts the number of not empty values for each row, or column\n",
    "#*sum() - Getting the frequency of a specific value/true values\n",
    "\n"
   ]
  },
  {
   "cell_type": "markdown",
   "id": "d5f1b50e",
   "metadata": {},
   "source": [
    "# Exploratory analysis"
   ]
  },
  {
   "cell_type": "markdown",
   "id": "f391d38d",
   "metadata": {},
   "source": [
    "## How many users see marketing assets?"
   ]
  },
  {
   "cell_type": "code",
   "execution_count": 17,
   "id": "d4c5be22",
   "metadata": {},
   "outputs": [
    {
     "name": "stdout",
     "output_type": "stream",
     "text": [
      "date_served\n",
      "2018-01-01    362\n",
      "2018-01-02    374\n",
      "2018-01-03    348\n",
      "2018-01-04    323\n",
      "2018-01-05    319\n",
      "2018-01-06    308\n",
      "2018-01-07    275\n",
      "2018-01-08    312\n",
      "2018-01-09    312\n",
      "2018-01-10    337\n",
      "2018-01-11    310\n",
      "2018-01-12    301\n",
      "2018-01-13    306\n",
      "2018-01-14    305\n",
      "2018-01-15    767\n",
      "2018-01-16    388\n",
      "2018-01-17    369\n",
      "2018-01-18    318\n",
      "2018-01-19    305\n",
      "2018-01-20    311\n",
      "2018-01-21    229\n",
      "2018-01-22    178\n",
      "2018-01-23    172\n",
      "2018-01-24    190\n",
      "2018-01-25    184\n",
      "2018-01-26    222\n",
      "2018-01-27    320\n",
      "2018-01-28    320\n",
      "2018-01-29    319\n",
      "2018-01-30    317\n",
      "2018-01-31    340\n",
      "Name: user_id, dtype: int64\n"
     ]
    }
   ],
   "source": [
    "# Aggregate unique users that see ads by date,nunique() is used in order to avoid duplicates user_id which is unique\n",
    "daily_users = df.groupby(['date_served'])['user_id'].nunique()\n",
    "print(daily_users)"
   ]
  },
  {
   "cell_type": "code",
   "execution_count": 18,
   "id": "b0d3dffb",
   "metadata": {},
   "outputs": [
    {
     "data": {
      "image/png": "[encoded data removed]",
      "text/plain": [
       "<Figure size 640x480 with 1 Axes>"
      ]
     },
     "metadata": {},
     "output_type": "display_data"
    }
   ],
   "source": [
    "#visualizing the result\n",
    "\n",
    "# Plot\n",
    "daily_users.plot()\n",
    "\n",
    "# Annotate\n",
    "plt.title('Daily number of users who see ads')\n",
    "plt.xlabel('Date')\n",
    "plt.ylabel('Number of users')\n",
    "plt.xticks(rotation = 45)\n",
    "plt.show()"
   ]
  },
  {
   "cell_type": "code",
   "execution_count": null,
   "id": "726995f4",
   "metadata": {},
   "outputs": [],
   "source": []
  },
  {
   "cell_type": "code",
   "execution_count": null,
   "id": "34048f9f",
   "metadata": {},
   "outputs": [],
   "source": []
  }
 ],
 "metadata": {
  "kernelspec": {
   "display_name": "Python 3 (ipykernel)",
   "language": "python",
   "name": "python3"
  },
  "language_info": {
   "codemirror_mode": {
    "name": "ipython",
    "version": 3
   },
   "file_extension": ".py",
   "mimetype": "text/x-python",
   "name": "python",
   "nbconvert_exporter": "python",
   "pygments_lexer": "ipython3",
   "version": "3.9.1"
  }
 },
 "nbformat": 4,
 "nbformat_minor": 5
}
