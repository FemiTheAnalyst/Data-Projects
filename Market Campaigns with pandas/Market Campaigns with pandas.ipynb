{
 "cells": [
  {
   "cell_type": "markdown",
   "id": "45cb6611",
   "metadata": {},
   "source": [
    "**Import data using pandas**"
   ]
  },
  {
   "cell_type": "code",
   "execution_count": 1,
   "id": "18379cdc",
   "metadata": {},
   "outputs": [],
   "source": [
    "import pandas as pd\n",
    "import numpy as np\n"
   ]
  },
  {
   "cell_type": "code",
   "execution_count": 2,
   "id": "9e7d1f17",
   "metadata": {},
   "outputs": [],
   "source": [
    "df = pd.read_csv(r'G:\\My Drive\\Analytics\\marketing.csv')\n"
   ]
  },
  {
   "cell_type": "markdown",
   "id": "3449e897",
   "metadata": {},
   "source": [
    "## Inspecting data"
   ]
  },
  {
   "cell_type": "code",
   "execution_count": 3,
   "id": "ddb32897",
   "metadata": {},
   "outputs": [],
   "source": [
    "print(df.head())"
   ]
  },
  {
   "cell_type": "markdown",
   "id": "a9d817e5",
   "metadata": {},
   "source": [
    "## Checking data types & missing values"
   ]
  },
  {
   "cell_type": "code",
   "execution_count": 4,
   "id": "a746f3f8",
   "metadata": {},
   "outputs": [],
   "source": [
    "df.info()\n"
   ]
  },
  {
   "cell_type": "markdown",
   "id": "07b8316c",
   "metadata": {},
   "source": [
    "## Summary Statistics"
   ]
  },
  {
   "cell_type": "code",
   "execution_count": 5,
   "id": "c2d46c30",
   "metadata": {},
   "outputs": [],
   "source": [
    "# To summarize the file \n",
    "print(df.describe())"
   ]
  },
  {
   "cell_type": "markdown",
   "id": "60c349af",
   "metadata": {},
   "source": [
    "# Data Cleaning: Analyzing individual columns & fixing data types\n"
   ]
  },
  {
   "cell_type": "code",
   "execution_count": 6,
   "id": "55e786c1",
   "metadata": {},
   "outputs": [],
   "source": [
    "#The column [converted] data type should be boolean not object from the formular \".info\"\n",
    "df['converted'].dtype\n"
   ]
  },
  {
   "cell_type": "markdown",
   "id": "3cffa2b3",
   "metadata": {},
   "source": [
    "### changing the data type of column [converted] to Boolean"
   ]
  },
  {
   "cell_type": "code",
   "execution_count": 7,
   "id": "0deec722",
   "metadata": {},
   "outputs": [],
   "source": [
    "df['converted'].astype('boolean')"
   ]
  },
  {
   "cell_type": "code",
   "execution_count": 8,
   "id": "0f58635a",
   "metadata": {},
   "outputs": [],
   "source": [
    "df['converted']= df['converted'].astype('boolean')\n",
    "df['converted'].dtype"
   ]
  },
  {
   "cell_type": "markdown",
   "id": "baf1be16",
   "metadata": {},
   "source": [
    "### checking the unique length of the characters in an individual row for the column [user_id]"
   ]
  },
  {
   "cell_type": "code",
   "execution_count": 9,
   "id": "c1e176b9",
   "metadata": {},
   "outputs": [],
   "source": [
    "#this checks the length of characters in each of the particular column\n",
    "\n",
    "id_len = df['user_id'].apply(lambda x:len(x))\n",
    "\n",
    "df['user_id'].astype(str).str[0].unique()\n",
    "id_len.unique()\n",
    "\n"
   ]
  },
  {
   "cell_type": "code",
   "execution_count": 10,
   "id": "349b8f05",
   "metadata": {},
   "outputs": [],
   "source": [
    "# the above output gave unique numbers of  10 & 9,we need to confirm why this difference or whether it is an error\n",
    "#lets check the [user_id] that has 9 characters\n",
    "condition=df['user_id'].str.len()==9\n",
    "\n",
    "#lets add a dataframe to the variable: df[condition] and referenced to a variable\n",
    "df_filtered =df[condition]\n",
    "\n",
    "#lets check the result\n",
    "df_filtered\n"
   ]
  },
  {
   "cell_type": "code",
   "execution_count": 11,
   "id": "855460ab",
   "metadata": {},
   "outputs": [],
   "source": [
    "#after little research,the most significant is the first character of the first variable,so found that if all are the same\n",
    "\n",
    "df['user_id'].astype('str').str[0].unique()"
   ]
  },
  {
   "cell_type": "code",
   "execution_count": 12,
   "id": "cd8a0d5f",
   "metadata": {},
   "outputs": [],
   "source": [
    "#the above output signify that all the [user_id] has their first character to be 'a',this satisfactory for column[user_id]"
   ]
  }
 ],
 "metadata": {
  "kernelspec": {
   "display_name": "Python 3 (ipykernel)",
   "language": "python",
   "name": "python3"
  },
  "language_info": {
   "codemirror_mode": {
    "name": "ipython",
    "version": 3
   },
   "file_extension": ".py",
   "mimetype": "text/x-python",
   "name": "python",
   "nbconvert_exporter": "python",
   "pygments_lexer": "ipython3",
   "version": "3.9.1"
  }
 },
 "nbformat": 4,
 "nbformat_minor": 5
}
