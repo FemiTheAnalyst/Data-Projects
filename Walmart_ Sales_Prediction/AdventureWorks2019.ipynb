{
 "cells": [
  {
   "cell_type": "code",
   "execution_count": 1,
   "id": "99bdba73",
   "metadata": {},
   "outputs": [],
   "source": [
    "import os\n",
    "import pyodbc\n",
    "import pandas as pd"
   ]
  },
  {
   "cell_type": "code",
   "execution_count": 2,
   "id": "1e7e49a1",
   "metadata": {},
   "outputs": [],
   "source": [
    "#pip install ipython-sql(this enables the use of SQL magic functions that contain % and %% , allowing you to write SQL style code right)\n",
    "#pip install sqlalchemy(it will mainly be used to store SQL queries into a pandas dataframe.)\n",
    "#pip install pyodbc (for sqlserver, you would use pyodbc:)\n",
    "\n",
    "# Load the IPython SQL extension.\n",
    "\n",
    "\n"
   ]
  },
  {
   "cell_type": "code",
   "execution_count": 3,
   "id": "4effddfc",
   "metadata": {},
   "outputs": [],
   "source": [
    "server =os.environ.get('SERVER')\n",
    "database = os.environ.get('SERVER_DATABASE')\n",
    "\n",
    "# Connection string\n",
    "connection_string = f'DRIVER={{ODBC Driver 17 for SQL Server}};SERVER={server};DATABASE={database};Trusted_Connection=yes;'\n",
    "\n",
    "# Establish the connection\n",
    "connection = pyodbc.connect(connection_string)\n",
    "\n",
    "\n",
    "\n",
    "\n"
   ]
  },
  {
   "cell_type": "code",
   "execution_count": 4,
   "id": "2433c0c7",
   "metadata": {},
   "outputs": [
    {
     "name": "stdout",
     "output_type": "stream",
     "text": [
      "(1, 'Engineering', 'Research and Development', datetime.datetime(2008, 4, 30, 0, 0))\n",
      "(2, 'Tool Design', 'Research and Development', datetime.datetime(2008, 4, 30, 0, 0))\n",
      "(3, 'Sales', 'Sales and Marketing', datetime.datetime(2008, 4, 30, 0, 0))\n",
      "(4, 'Marketing', 'Sales and Marketing', datetime.datetime(2008, 4, 30, 0, 0))\n",
      "(5, 'Purchasing', 'Inventory Management', datetime.datetime(2008, 4, 30, 0, 0))\n",
      "(6, 'Research and Development', 'Research and Development', datetime.datetime(2008, 4, 30, 0, 0))\n",
      "(7, 'Production', 'Manufacturing', datetime.datetime(2008, 4, 30, 0, 0))\n",
      "(8, 'Production Control', 'Manufacturing', datetime.datetime(2008, 4, 30, 0, 0))\n",
      "(9, 'Human Resources', 'Executive General and Administration', datetime.datetime(2008, 4, 30, 0, 0))\n",
      "(10, 'Finance', 'Executive General and Administration', datetime.datetime(2008, 4, 30, 0, 0))\n",
      "(11, 'Information Services', 'Executive General and Administration', datetime.datetime(2008, 4, 30, 0, 0))\n",
      "(12, 'Document Control', 'Quality Assurance', datetime.datetime(2008, 4, 30, 0, 0))\n",
      "(13, 'Quality Assurance', 'Quality Assurance', datetime.datetime(2008, 4, 30, 0, 0))\n",
      "(14, 'Facilities and Maintenance', 'Executive General and Administration', datetime.datetime(2008, 4, 30, 0, 0))\n",
      "(15, 'Shipping and Receiving', 'Inventory Management', datetime.datetime(2008, 4, 30, 0, 0))\n",
      "(16, 'Executive', 'Executive General and Administration', datetime.datetime(2008, 4, 30, 0, 0))\n"
     ]
    }
   ],
   "source": [
    "# Create a cursor\n",
    "cursor = connection.cursor()\n",
    "\n",
    "# Execute SQL queries using the cursor\n",
    "cursor.execute('SELECT * FROM [AdventureWorks2019].[HumanResources].[Department]')\n",
    "rows = cursor.fetchall()\n",
    "# Display the results\n",
    "for row in rows:\n",
    "    print(row)\n",
    "\n",
    "# Close the cursor and connection when done\n",
    "cursor.close()\n",
    "connection.close()\n",
    "\n"
   ]
  },
  {
   "cell_type": "code",
   "execution_count": 5,
   "id": "924eaa6e",
   "metadata": {},
   "outputs": [
    {
     "name": "stderr",
     "output_type": "stream",
     "text": [
      "UsageError: Line magic function `%sql` not found.\n"
     ]
    }
   ],
   "source": [
    "%sql SELECT * FROM [AdventureWorks2019].[HumanResources].[Department]"
   ]
  },
  {
   "cell_type": "code",
   "execution_count": null,
   "id": "00e3c7b1",
   "metadata": {},
   "outputs": [],
   "source": []
  }
 ],
 "metadata": {
  "kernelspec": {
   "display_name": "Python 3 (ipykernel)",
   "language": "python",
   "name": "python3"
  },
  "language_info": {
   "codemirror_mode": {
    "name": "ipython",
    "version": 3
   },
   "file_extension": ".py",
   "mimetype": "text/x-python",
   "name": "python",
   "nbconvert_exporter": "python",
   "pygments_lexer": "ipython3",
   "version": "3.9.1"
  }
 },
 "nbformat": 4,
 "nbformat_minor": 5
}
